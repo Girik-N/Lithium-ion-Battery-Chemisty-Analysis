{
  "nbformat": 4,
  "nbformat_minor": 0,
  "metadata": {
    "colab": {
      "provenance": []
    },
    "kernelspec": {
      "name": "python3",
      "display_name": "Python 3"
    },
    "language_info": {
      "name": "python"
    }
  },
  "cells": [
    {
      "cell_type": "code",
      "execution_count": null,
      "metadata": {
        "id": "f2hxNtb-zF5R"
      },
      "outputs": [],
      "source": [
        "import matplotlib.pyplot as plt\n",
        "import numpy as np\n"
      ]
    },
    {
      "cell_type": "code",
      "source": [
        "#data of lithium-ion battery chemistry\n",
        "data = [\n",
        "    {'chemistry': 'LiCoO2', 'capacity': 10.3},\n",
        "    {'chemistry': 'LiMn2O4', 'capacity': 11.2},\n",
        "    {'chemistry': 'LiFePO4', 'capacity': 12.1},\n",
        "    {'chemistry': 'LiNiMnCoO2', 'capacity': 13.3},\n",
        "    {'chemistry': 'LiNiCoAlO2', 'capacity': 14.2}\n",
        "]\n",
        "\n"
      ],
      "metadata": {
        "id": "IHE7Wa8XzYsG"
      },
      "execution_count": null,
      "outputs": []
    },
    {
      "cell_type": "code",
      "source": [
        "chemistry = [d['chemistry'] for d in data]\n",
        "capacity = [d['capacity'] for d in data]\n",
        "\n"
      ],
      "metadata": {
        "id": "gYNJ2snvzZ7c"
      },
      "execution_count": null,
      "outputs": []
    },
    {
      "cell_type": "code",
      "source": [
        "#visualizing the data\n",
        "fig = plt.figure()\n",
        "ax = fig.add_axes([0,0,1,1])\n",
        "ax.bar(chemistry, capacity)\n",
        "plt.title('Lithium-Ion Battery Chemistry')\n",
        "plt.xlabel('Chemistry')\n",
        "plt.ylabel('Capacity (mAh/g)')\n",
        "plt.show()\n",
        "\n"
      ],
      "metadata": {
        "colab": {
          "base_uri": "https://localhost:8080/",
          "height": 366
        },
        "id": "O3s4fPuyza-z",
        "outputId": "b7751937-1387-4656-8ed1-669dd20f1654"
      },
      "execution_count": null,
      "outputs": [
        {
          "output_type": "display_data",
          "data": {
            "text/plain": [
              "<Figure size 432x288 with 1 Axes>"
            ],
            "image/png": "[encoded data removed]"
          },
          "metadata": {
            "needs_background": "light"
          }
        }
      ]
    },
    {
      "cell_type": "code",
      "source": [
        "#Finding the best one\n",
        "best_capacity = max(capacity)\n",
        "for d in data:\n",
        "    if d['capacity'] == best_capacity:\n",
        "        print('The best lithium-ion battery chemistry is ' + d['chemistry'] + ' with a capacity of ' + str(d['capacity']) + ' mAh/g')"
      ],
      "metadata": {
        "colab": {
          "base_uri": "https://localhost:8080/"
        },
        "id": "_ZgXRviwzcBO",
        "outputId": "1fb2f28b-583a-4438-9ecc-14f6bb89565f"
      },
      "execution_count": null,
      "outputs": [
        {
          "output_type": "stream",
          "name": "stdout",
          "text": [
            "The best lithium-ion battery chemistry is LiNiCoAlO2 with a capacity of 14.2 mAh/g\n"
          ]
        }
      ]
    }
  ]
}